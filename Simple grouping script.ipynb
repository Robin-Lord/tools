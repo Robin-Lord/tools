{
 "cells": [
  {
   "cell_type": "markdown",
   "metadata": {},
   "source": [
    "# Simple script to group data based on given columns"
   ]
  },
  {
   "cell_type": "markdown",
   "metadata": {},
   "source": [
    "## Importing libraries"
   ]
  },
  {
   "cell_type": "code",
   "execution_count": 1,
   "metadata": {
    "ExecuteTime": {
     "end_time": "2020-08-12T15:41:11.033242Z",
     "start_time": "2020-08-12T15:41:10.393925Z"
    }
   },
   "outputs": [],
   "source": [
    "import pandas as pd"
   ]
  },
  {
   "cell_type": "markdown",
   "metadata": {},
   "source": [
    "## Setting variables"
   ]
  },
  {
   "cell_type": "code",
   "execution_count": 2,
   "metadata": {
    "ExecuteTime": {
     "end_time": "2020-08-12T15:41:11.040197Z",
     "start_time": "2020-08-12T15:41:11.035209Z"
    }
   },
   "outputs": [],
   "source": [
    "working_folder = r\"C:\\Users\\Robin\\Dropbox (Distilled LLC)\\Client work\\Geotab\\2020 08 (August) UK site launch\" # This is the folder that contains the file you're working with\n",
    "filename = r\"uk-new inlinks CSV.csv\" # The specific filename (not the full file path)\n",
    "\n",
    "columns_to_group_by = [\"Type\", \"Destination\", \"Alt Text\", \"Anchor\", \"Target\", \"Path Type\", \"Link Position\"] # This should just be the columns you want to group by\n",
    "columns_to_aggregate = [\"Source\"] # This should be the columns you want to sum and count\n",
    "\n",
    "columns_to_keep = columns_to_group_by+columns_to_aggregate # If we want to group or aggregate columns we need to keep them!"
   ]
  },
  {
   "cell_type": "markdown",
   "metadata": {},
   "source": [
    "## Importing data"
   ]
  },
  {
   "cell_type": "code",
   "execution_count": 3,
   "metadata": {
    "ExecuteTime": {
     "end_time": "2020-08-12T15:41:11.194782Z",
     "start_time": "2020-08-12T15:41:11.041195Z"
    }
   },
   "outputs": [
    {
     "data": {
      "text/html": [
       "<div>\n",
       "<style scoped>\n",
       "    .dataframe tbody tr th:only-of-type {\n",
       "        vertical-align: middle;\n",
       "    }\n",
       "\n",
       "    .dataframe tbody tr th {\n",
       "        vertical-align: top;\n",
       "    }\n",
       "\n",
       "    .dataframe thead th {\n",
       "        text-align: right;\n",
       "    }\n",
       "</style>\n",
       "<table border=\"1\" class=\"dataframe\">\n",
       "  <thead>\n",
       "    <tr style=\"text-align: right;\">\n",
       "      <th></th>\n",
       "      <th>Type</th>\n",
       "      <th>Source</th>\n",
       "      <th>Destination</th>\n",
       "      <th>Alt Text</th>\n",
       "      <th>Anchor</th>\n",
       "      <th>Status Code</th>\n",
       "      <th>Status</th>\n",
       "      <th>Target</th>\n",
       "      <th>Path Type</th>\n",
       "      <th>Link Path</th>\n",
       "      <th>Link Position</th>\n",
       "    </tr>\n",
       "  </thead>\n",
       "  <tbody>\n",
       "    <tr>\n",
       "      <td>0</td>\n",
       "      <td>Hyperlink</td>\n",
       "      <td>https://www.geotab.com/uk-new/</td>\n",
       "      <td>https://www.geotab.com/uk-new/</td>\n",
       "      <td>NaN</td>\n",
       "      <td>Skip to main content</td>\n",
       "      <td>200</td>\n",
       "      <td>OK</td>\n",
       "      <td>NaN</td>\n",
       "      <td>Path-Relative</td>\n",
       "      <td>//body/div[@id='react_0HM1Q97GH4GAA']/a</td>\n",
       "      <td>Content</td>\n",
       "    </tr>\n",
       "    <tr>\n",
       "      <td>1</td>\n",
       "      <td>Image</td>\n",
       "      <td>https://www.geotab.com/uk-new/</td>\n",
       "      <td>https://www.geotab.com/uk-new/</td>\n",
       "      <td>Grey and blue odometer icon</td>\n",
       "      <td>NaN</td>\n",
       "      <td>200</td>\n",
       "      <td>OK</td>\n",
       "      <td>NaN</td>\n",
       "      <td>Path-Relative</td>\n",
       "      <td>//body/div[@id='react_0HM1Q97GH4GAA']/main/div...</td>\n",
       "      <td>Content</td>\n",
       "    </tr>\n",
       "    <tr>\n",
       "      <td>2</td>\n",
       "      <td>Image</td>\n",
       "      <td>https://www.geotab.com/uk-new/</td>\n",
       "      <td>https://www.geotab.com/uk-new/</td>\n",
       "      <td>Grey and blue globe icon</td>\n",
       "      <td>NaN</td>\n",
       "      <td>200</td>\n",
       "      <td>OK</td>\n",
       "      <td>NaN</td>\n",
       "      <td>Path-Relative</td>\n",
       "      <td>//body/div[@id='react_0HM1Q97GH4GAA']/main/div...</td>\n",
       "      <td>Content</td>\n",
       "    </tr>\n",
       "    <tr>\n",
       "      <td>3</td>\n",
       "      <td>Image</td>\n",
       "      <td>https://www.geotab.com/uk-new/</td>\n",
       "      <td>https://www.geotab.com/uk-new/</td>\n",
       "      <td>Grey server icon</td>\n",
       "      <td>NaN</td>\n",
       "      <td>200</td>\n",
       "      <td>OK</td>\n",
       "      <td>NaN</td>\n",
       "      <td>Path-Relative</td>\n",
       "      <td>//body/div[@id='react_0HM1Q97GH4GAA']/main/div...</td>\n",
       "      <td>Content</td>\n",
       "    </tr>\n",
       "    <tr>\n",
       "      <td>4</td>\n",
       "      <td>Image</td>\n",
       "      <td>https://www.geotab.com/uk-new/</td>\n",
       "      <td>https://www.geotab.com/uk-new/</td>\n",
       "      <td>Green stopwatch icon</td>\n",
       "      <td>NaN</td>\n",
       "      <td>200</td>\n",
       "      <td>OK</td>\n",
       "      <td>NaN</td>\n",
       "      <td>Path-Relative</td>\n",
       "      <td>//body/div[@id='react_0HM1Q97GH4GAA']/main/div...</td>\n",
       "      <td>Content</td>\n",
       "    </tr>\n",
       "  </tbody>\n",
       "</table>\n",
       "</div>"
      ],
      "text/plain": [
       "        Type                          Source                     Destination  \\\n",
       "0  Hyperlink  https://www.geotab.com/uk-new/  https://www.geotab.com/uk-new/   \n",
       "1      Image  https://www.geotab.com/uk-new/  https://www.geotab.com/uk-new/   \n",
       "2      Image  https://www.geotab.com/uk-new/  https://www.geotab.com/uk-new/   \n",
       "3      Image  https://www.geotab.com/uk-new/  https://www.geotab.com/uk-new/   \n",
       "4      Image  https://www.geotab.com/uk-new/  https://www.geotab.com/uk-new/   \n",
       "\n",
       "                      Alt Text                Anchor  Status Code Status  \\\n",
       "0                          NaN  Skip to main content          200     OK   \n",
       "1  Grey and blue odometer icon                   NaN          200     OK   \n",
       "2     Grey and blue globe icon                   NaN          200     OK   \n",
       "3             Grey server icon                   NaN          200     OK   \n",
       "4         Green stopwatch icon                   NaN          200     OK   \n",
       "\n",
       "  Target      Path Type                                          Link Path  \\\n",
       "0    NaN  Path-Relative            //body/div[@id='react_0HM1Q97GH4GAA']/a   \n",
       "1    NaN  Path-Relative  //body/div[@id='react_0HM1Q97GH4GAA']/main/div...   \n",
       "2    NaN  Path-Relative  //body/div[@id='react_0HM1Q97GH4GAA']/main/div...   \n",
       "3    NaN  Path-Relative  //body/div[@id='react_0HM1Q97GH4GAA']/main/div...   \n",
       "4    NaN  Path-Relative  //body/div[@id='react_0HM1Q97GH4GAA']/main/div...   \n",
       "\n",
       "  Link Position  \n",
       "0       Content  \n",
       "1       Content  \n",
       "2       Content  \n",
       "3       Content  \n",
       "4       Content  "
      ]
     },
     "execution_count": 3,
     "metadata": {},
     "output_type": "execute_result"
    }
   ],
   "source": [
    "data = pd.read_csv(working_folder+\"/\"+filename, sep=\",\") # Import data using the working folder and file name combined\n",
    "data.head(5) # Show the top five rows"
   ]
  },
  {
   "cell_type": "markdown",
   "metadata": {},
   "source": [
    "## Cutting data down to just important columns"
   ]
  },
  {
   "cell_type": "code",
   "execution_count": 8,
   "metadata": {
    "ExecuteTime": {
     "end_time": "2020-08-12T15:44:06.549341Z",
     "start_time": "2020-08-12T15:44:06.525405Z"
    }
   },
   "outputs": [
    {
     "data": {
      "text/html": [
       "<div>\n",
       "<style scoped>\n",
       "    .dataframe tbody tr th:only-of-type {\n",
       "        vertical-align: middle;\n",
       "    }\n",
       "\n",
       "    .dataframe tbody tr th {\n",
       "        vertical-align: top;\n",
       "    }\n",
       "\n",
       "    .dataframe thead th {\n",
       "        text-align: right;\n",
       "    }\n",
       "</style>\n",
       "<table border=\"1\" class=\"dataframe\">\n",
       "  <thead>\n",
       "    <tr style=\"text-align: right;\">\n",
       "      <th></th>\n",
       "      <th>Type</th>\n",
       "      <th>Destination</th>\n",
       "      <th>Alt Text</th>\n",
       "      <th>Anchor</th>\n",
       "      <th>Target</th>\n",
       "      <th>Path Type</th>\n",
       "      <th>Link Position</th>\n",
       "      <th>Source</th>\n",
       "    </tr>\n",
       "  </thead>\n",
       "  <tbody>\n",
       "    <tr>\n",
       "      <td>0</td>\n",
       "      <td>Hyperlink</td>\n",
       "      <td>https://www.geotab.com/uk-new/</td>\n",
       "      <td></td>\n",
       "      <td>Skip to main content</td>\n",
       "      <td></td>\n",
       "      <td>Path-Relative</td>\n",
       "      <td>Content</td>\n",
       "      <td>https://www.geotab.com/uk-new/</td>\n",
       "    </tr>\n",
       "    <tr>\n",
       "      <td>1</td>\n",
       "      <td>Image</td>\n",
       "      <td>https://www.geotab.com/uk-new/</td>\n",
       "      <td>Grey and blue odometer icon</td>\n",
       "      <td></td>\n",
       "      <td></td>\n",
       "      <td>Path-Relative</td>\n",
       "      <td>Content</td>\n",
       "      <td>https://www.geotab.com/uk-new/</td>\n",
       "    </tr>\n",
       "    <tr>\n",
       "      <td>2</td>\n",
       "      <td>Image</td>\n",
       "      <td>https://www.geotab.com/uk-new/</td>\n",
       "      <td>Grey and blue globe icon</td>\n",
       "      <td></td>\n",
       "      <td></td>\n",
       "      <td>Path-Relative</td>\n",
       "      <td>Content</td>\n",
       "      <td>https://www.geotab.com/uk-new/</td>\n",
       "    </tr>\n",
       "    <tr>\n",
       "      <td>3</td>\n",
       "      <td>Image</td>\n",
       "      <td>https://www.geotab.com/uk-new/</td>\n",
       "      <td>Grey server icon</td>\n",
       "      <td></td>\n",
       "      <td></td>\n",
       "      <td>Path-Relative</td>\n",
       "      <td>Content</td>\n",
       "      <td>https://www.geotab.com/uk-new/</td>\n",
       "    </tr>\n",
       "    <tr>\n",
       "      <td>4</td>\n",
       "      <td>Image</td>\n",
       "      <td>https://www.geotab.com/uk-new/</td>\n",
       "      <td>Green stopwatch icon</td>\n",
       "      <td></td>\n",
       "      <td></td>\n",
       "      <td>Path-Relative</td>\n",
       "      <td>Content</td>\n",
       "      <td>https://www.geotab.com/uk-new/</td>\n",
       "    </tr>\n",
       "  </tbody>\n",
       "</table>\n",
       "</div>"
      ],
      "text/plain": [
       "        Type                     Destination                     Alt Text  \\\n",
       "0  Hyperlink  https://www.geotab.com/uk-new/                                \n",
       "1      Image  https://www.geotab.com/uk-new/  Grey and blue odometer icon   \n",
       "2      Image  https://www.geotab.com/uk-new/     Grey and blue globe icon   \n",
       "3      Image  https://www.geotab.com/uk-new/             Grey server icon   \n",
       "4      Image  https://www.geotab.com/uk-new/         Green stopwatch icon   \n",
       "\n",
       "                 Anchor Target      Path Type Link Position  \\\n",
       "0  Skip to main content         Path-Relative       Content   \n",
       "1                               Path-Relative       Content   \n",
       "2                               Path-Relative       Content   \n",
       "3                               Path-Relative       Content   \n",
       "4                               Path-Relative       Content   \n",
       "\n",
       "                           Source  \n",
       "0  https://www.geotab.com/uk-new/  \n",
       "1  https://www.geotab.com/uk-new/  \n",
       "2  https://www.geotab.com/uk-new/  \n",
       "3  https://www.geotab.com/uk-new/  \n",
       "4  https://www.geotab.com/uk-new/  "
      ]
     },
     "execution_count": 8,
     "metadata": {},
     "output_type": "execute_result"
    }
   ],
   "source": [
    "working_data = data.copy(deep=True) # Copy data so that we always have an unfiltered version\n",
    "working_data = working_data[columns_to_keep] # Filter the copy to just the columns we want\n",
    "\n",
    "working_data = working_data.fillna(\"\") # Removing NA to avoid problems with grouping\n",
    "\n",
    "working_data.head(5) # Show the top five rows"
   ]
  },
  {
   "cell_type": "markdown",
   "metadata": {},
   "source": [
    "## Grouping the data by the grouping columns"
   ]
  },
  {
   "cell_type": "code",
   "execution_count": 18,
   "metadata": {
    "ExecuteTime": {
     "end_time": "2020-08-12T15:48:24.227084Z",
     "start_time": "2020-08-12T15:48:24.099426Z"
    }
   },
   "outputs": [
    {
     "data": {
      "text/html": [
       "<div>\n",
       "<style scoped>\n",
       "    .dataframe tbody tr th:only-of-type {\n",
       "        vertical-align: middle;\n",
       "    }\n",
       "\n",
       "    .dataframe tbody tr th {\n",
       "        vertical-align: top;\n",
       "    }\n",
       "\n",
       "    .dataframe thead tr th {\n",
       "        text-align: left;\n",
       "    }\n",
       "</style>\n",
       "<table border=\"1\" class=\"dataframe\">\n",
       "  <thead>\n",
       "    <tr>\n",
       "      <th></th>\n",
       "      <th>Type</th>\n",
       "      <th>Destination</th>\n",
       "      <th>Alt Text</th>\n",
       "      <th>Anchor</th>\n",
       "      <th>Target</th>\n",
       "      <th>Path Type</th>\n",
       "      <th>Link Position</th>\n",
       "      <th colspan=\"2\" halign=\"left\">Source</th>\n",
       "    </tr>\n",
       "    <tr>\n",
       "      <th></th>\n",
       "      <th></th>\n",
       "      <th></th>\n",
       "      <th></th>\n",
       "      <th></th>\n",
       "      <th></th>\n",
       "      <th></th>\n",
       "      <th></th>\n",
       "      <th>count</th>\n",
       "      <th>min</th>\n",
       "    </tr>\n",
       "  </thead>\n",
       "  <tbody>\n",
       "    <tr>\n",
       "      <td>239</td>\n",
       "      <td>Hyperlink</td>\n",
       "      <td>https://www.geotab.com/uk-new/about/corporate-...</td>\n",
       "      <td></td>\n",
       "      <td>Social responsibility Leading by example.</td>\n",
       "      <td>_self</td>\n",
       "      <td>Absolute</td>\n",
       "      <td>Navigation</td>\n",
       "      <td>152</td>\n",
       "      <td>https://www.geotab.com/uk-new/</td>\n",
       "    </tr>\n",
       "    <tr>\n",
       "      <td>77</td>\n",
       "      <td>Hyperlink</td>\n",
       "      <td>https://www.geotab.com/uk-new/fleet-management...</td>\n",
       "      <td></td>\n",
       "      <td>Productivity</td>\n",
       "      <td>_self</td>\n",
       "      <td>Absolute</td>\n",
       "      <td>Navigation</td>\n",
       "      <td>152</td>\n",
       "      <td>https://www.geotab.com/uk-new/</td>\n",
       "    </tr>\n",
       "    <tr>\n",
       "      <td>205</td>\n",
       "      <td>Hyperlink</td>\n",
       "      <td>https://www.geotab.com/uk-new/partners/overview/</td>\n",
       "      <td></td>\n",
       "      <td>Partner overview</td>\n",
       "      <td>_self</td>\n",
       "      <td>Absolute</td>\n",
       "      <td>Navigation</td>\n",
       "      <td>152</td>\n",
       "      <td>https://www.geotab.com/uk-new/</td>\n",
       "    </tr>\n",
       "    <tr>\n",
       "      <td>206</td>\n",
       "      <td>Hyperlink</td>\n",
       "      <td>https://www.geotab.com/uk-new/partners/overview/</td>\n",
       "      <td></td>\n",
       "      <td>Partners</td>\n",
       "      <td></td>\n",
       "      <td>Absolute</td>\n",
       "      <td>Footer</td>\n",
       "      <td>152</td>\n",
       "      <td>https://www.geotab.com/uk-new/</td>\n",
       "    </tr>\n",
       "    <tr>\n",
       "      <td>216</td>\n",
       "      <td>Hyperlink</td>\n",
       "      <td>https://www.geotab.com/uk-new/fleet-management...</td>\n",
       "      <td></td>\n",
       "      <td>Safety</td>\n",
       "      <td>_self</td>\n",
       "      <td>Absolute</td>\n",
       "      <td>Navigation</td>\n",
       "      <td>152</td>\n",
       "      <td>https://www.geotab.com/uk-new/</td>\n",
       "    </tr>\n",
       "  </tbody>\n",
       "</table>\n",
       "</div>"
      ],
      "text/plain": [
       "          Type                                        Destination Alt Text  \\\n",
       "                                                                             \n",
       "239  Hyperlink  https://www.geotab.com/uk-new/about/corporate-...            \n",
       "77   Hyperlink  https://www.geotab.com/uk-new/fleet-management...            \n",
       "205  Hyperlink   https://www.geotab.com/uk-new/partners/overview/            \n",
       "206  Hyperlink   https://www.geotab.com/uk-new/partners/overview/            \n",
       "216  Hyperlink  https://www.geotab.com/uk-new/fleet-management...            \n",
       "\n",
       "                                        Anchor Target Path Type Link Position  \\\n",
       "                                                                                \n",
       "239  Social responsibility Leading by example.  _self  Absolute    Navigation   \n",
       "77                                Productivity  _self  Absolute    Navigation   \n",
       "205                           Partner overview  _self  Absolute    Navigation   \n",
       "206                                   Partners         Absolute        Footer   \n",
       "216                                     Safety  _self  Absolute    Navigation   \n",
       "\n",
       "    Source                                  \n",
       "     count                             min  \n",
       "239    152  https://www.geotab.com/uk-new/  \n",
       "77     152  https://www.geotab.com/uk-new/  \n",
       "205    152  https://www.geotab.com/uk-new/  \n",
       "206    152  https://www.geotab.com/uk-new/  \n",
       "216    152  https://www.geotab.com/uk-new/  "
      ]
     },
     "execution_count": 18,
     "metadata": {},
     "output_type": "execute_result"
    }
   ],
   "source": [
    "grouped_data = working_data.groupby(by = columns_to_group_by, sort = False).agg([\"count\", \"min\"]) # Group the data\n",
    "# count the number of records and use \"min\" to give an example record for each group\n",
    "\n",
    "grouped_data.reset_index(inplace = True) # Reset the index so we can easily work with the data\n",
    "\n",
    "grouped_data = grouped_data.sort_values((\"Source\", \"count\"), ascending = False) # We need to sort by this nested column\n",
    "# So we give both the upper column name and the lower column name in a tuple\n",
    "\n",
    "grouped_data.head(5) # View data"
   ]
  },
  {
   "cell_type": "markdown",
   "metadata": {},
   "source": [
    "## Exporting the results"
   ]
  },
  {
   "cell_type": "code",
   "execution_count": 20,
   "metadata": {
    "ExecuteTime": {
     "end_time": "2020-08-12T15:49:06.294385Z",
     "start_time": "2020-08-12T15:49:06.277431Z"
    }
   },
   "outputs": [],
   "source": [
    "grouped_data.to_csv(working_folder+\"/grouped_data.csv\")"
   ]
  }
 ],
 "metadata": {
  "kernelspec": {
   "display_name": "Python 3",
   "language": "python",
   "name": "python3"
  },
  "language_info": {
   "codemirror_mode": {
    "name": "ipython",
    "version": 3
   },
   "file_extension": ".py",
   "mimetype": "text/x-python",
   "name": "python",
   "nbconvert_exporter": "python",
   "pygments_lexer": "ipython3",
   "version": "3.7.4"
  },
  "toc": {
   "base_numbering": 1,
   "nav_menu": {},
   "number_sections": true,
   "sideBar": true,
   "skip_h1_title": false,
   "title_cell": "Table of Contents",
   "title_sidebar": "Contents",
   "toc_cell": false,
   "toc_position": {},
   "toc_section_display": true,
   "toc_window_display": true
  },
  "varInspector": {
   "cols": {
    "lenName": 16,
    "lenType": 16,
    "lenVar": 40
   },
   "kernels_config": {
    "python": {
     "delete_cmd_postfix": "",
     "delete_cmd_prefix": "del ",
     "library": "var_list.py",
     "varRefreshCmd": "print(var_dic_list())"
    },
    "r": {
     "delete_cmd_postfix": ") ",
     "delete_cmd_prefix": "rm(",
     "library": "var_list.r",
     "varRefreshCmd": "cat(var_dic_list()) "
    }
   },
   "types_to_exclude": [
    "module",
    "function",
    "builtin_function_or_method",
    "instance",
    "_Feature"
   ],
   "window_display": false
  }
 },
 "nbformat": 4,
 "nbformat_minor": 2
}
