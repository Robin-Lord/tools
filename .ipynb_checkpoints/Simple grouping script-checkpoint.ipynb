{
 "cells": [
  {
   "cell_type": "markdown",
   "metadata": {},
   "source": [
    "# Simple script to group data based on given columns"
   ]
  },
  {
   "cell_type": "markdown",
   "metadata": {},
   "source": [
    "## Importing libraries"
   ]
  },
  {
   "cell_type": "code",
   "execution_count": null,
   "metadata": {
    "ExecuteTime": {
     "end_time": "2020-08-12T15:41:11.033242Z",
     "start_time": "2020-08-12T15:41:10.393925Z"
    }
   },
   "outputs": [],
   "source": [
    "import pandas as pd"
   ]
  },
  {
   "cell_type": "markdown",
   "metadata": {},
   "source": [
    "## Setting variables"
   ]
  },
  {
   "cell_type": "code",
   "execution_count": null,
   "metadata": {
    "ExecuteTime": {
     "end_time": "2020-08-12T15:41:11.040197Z",
     "start_time": "2020-08-12T15:41:11.035209Z"
    }
   },
   "outputs": [],
   "source": [
    "working_folder = r\"folder location\" # This is the folder that contains the file you're working with\n",
    "filename = r\"uk-new inlinks CSV.csv\" # The specific filename (not the full file path)\n",
    "\n",
    "columns_to_group_by = [\"Type\", \"Destination\", \"Alt Text\", \"Anchor\", \"Target\", \"Path Type\", \"Link Position\"] # This should just be the columns you want to group by\n",
    "columns_to_aggregate = [\"Source\"] # This should be the columns you want to sum and count\n",
    "\n",
    "columns_to_keep = columns_to_group_by+columns_to_aggregate # If we want to group or aggregate columns we need to keep them!"
   ]
  },
  {
   "cell_type": "markdown",
   "metadata": {},
   "source": [
    "## Importing data"
   ]
  },
  {
   "cell_type": "code",
   "execution_count": null,
   "metadata": {
    "ExecuteTime": {
     "end_time": "2020-08-12T15:41:11.194782Z",
     "start_time": "2020-08-12T15:41:11.041195Z"
    }
   },
   "outputs": [],
   "source": [
    "data = pd.read_csv(working_folder+\"/\"+filename, sep=\",\") # Import data using the working folder and file name combined\n",
    "data.head(5) # Show the top five rows"
   ]
  },
  {
   "cell_type": "markdown",
   "metadata": {},
   "source": [
    "## Cutting data down to just important columns"
   ]
  },
  {
   "cell_type": "code",
   "execution_count": null,
   "metadata": {
    "ExecuteTime": {
     "end_time": "2020-08-12T15:44:06.549341Z",
     "start_time": "2020-08-12T15:44:06.525405Z"
    }
   },
   "outputs": [],
   "source": [
    "working_data = data.copy(deep=True) # Copy data so that we always have an unfiltered version\n",
    "working_data = working_data[columns_to_keep] # Filter the copy to just the columns we want\n",
    "\n",
    "working_data = working_data.fillna(\"\") # Removing NA to avoid problems with grouping\n",
    "\n",
    "working_data.head(5) # Show the top five rows"
   ]
  },
  {
   "cell_type": "markdown",
   "metadata": {},
   "source": [
    "## Grouping the data by the grouping columns"
   ]
  },
  {
   "cell_type": "code",
   "execution_count": null,
   "metadata": {
    "ExecuteTime": {
     "end_time": "2020-08-12T15:48:24.227084Z",
     "start_time": "2020-08-12T15:48:24.099426Z"
    }
   },
   "outputs": [],
   "source": [
    "grouped_data = working_data.groupby(by = columns_to_group_by, sort = False).agg([\"count\", \"min\"]) # Group the data\n",
    "# count the number of records and use \"min\" to give an example record for each group\n",
    "\n",
    "grouped_data.reset_index(inplace = True) # Reset the index so we can easily work with the data\n",
    "\n",
    "grouped_data = grouped_data.sort_values((\"Source\", \"count\"), ascending = False) # We need to sort by this nested column\n",
    "# So we give both the upper column name and the lower column name in a tuple\n",
    "\n",
    "grouped_data.head(5) # View data"
   ]
  },
  {
   "cell_type": "markdown",
   "metadata": {},
   "source": [
    "## Exporting the results"
   ]
  },
  {
   "cell_type": "code",
   "execution_count": null,
   "metadata": {
    "ExecuteTime": {
     "end_time": "2020-08-12T15:49:06.294385Z",
     "start_time": "2020-08-12T15:49:06.277431Z"
    }
   },
   "outputs": [],
   "source": [
    "grouped_data.to_csv(working_folder+\"/grouped_data.csv\")"
   ]
  }
 ],
 "metadata": {
  "kernelspec": {
   "display_name": "Python 3",
   "language": "python",
   "name": "python3"
  },
  "language_info": {
   "codemirror_mode": {
    "name": "ipython",
    "version": 3
   },
   "file_extension": ".py",
   "mimetype": "text/x-python",
   "name": "python",
   "nbconvert_exporter": "python",
   "pygments_lexer": "ipython3",
   "version": "3.7.4"
  },
  "toc": {
   "base_numbering": 1,
   "nav_menu": {},
   "number_sections": true,
   "sideBar": true,
   "skip_h1_title": false,
   "title_cell": "Table of Contents",
   "title_sidebar": "Contents",
   "toc_cell": false,
   "toc_position": {},
   "toc_section_display": true,
   "toc_window_display": true
  },
  "varInspector": {
   "cols": {
    "lenName": 16,
    "lenType": 16,
    "lenVar": 40
   },
   "kernels_config": {
    "python": {
     "delete_cmd_postfix": "",
     "delete_cmd_prefix": "del ",
     "library": "var_list.py",
     "varRefreshCmd": "print(var_dic_list())"
    },
    "r": {
     "delete_cmd_postfix": ") ",
     "delete_cmd_prefix": "rm(",
     "library": "var_list.r",
     "varRefreshCmd": "cat(var_dic_list()) "
    }
   },
   "types_to_exclude": [
    "module",
    "function",
    "builtin_function_or_method",
    "instance",
    "_Feature"
   ],
   "window_display": false
  }
 },
 "nbformat": 4,
 "nbformat_minor": 2
}
